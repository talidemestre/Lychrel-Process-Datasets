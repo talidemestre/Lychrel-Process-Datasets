{
 "cells": [
  {
   "cell_type": "code",
   "execution_count": 4,
   "metadata": {},
   "outputs": [],
   "source": [
    "import matplotlib.pyplot as plt\n",
    "import math\n",
    "import pandas\n",
    "import numpy as np"
   ]
  },
  {
   "cell_type": "markdown",
   "metadata": {},
   "source": [
    "# Symmetricity of Palindromes\n",
    "We start by generating a list of the first n iterations of the lychrel process on 196."
   ]
  },
  {
   "cell_type": "code",
   "execution_count": 106,
   "metadata": {},
   "outputs": [],
   "source": [
    "pal = 196 \n",
    "n = 0\n",
    "n_final = 100\n",
    "pal_array = []\n",
    "\n",
    "while n < n_final:\n",
    "    #print(n)\n",
    "    pal_array.append(pal)\n",
    "    pal = pal + int(str(pal)[::-1])\n",
    "    n+=1\n",
    "    \n",
    "with open(\"196steps_symmetricity.csv\", \"w\") as output:\n",
    "    output.write(str(pal_array))"
   ]
  },
  {
   "cell_type": "markdown",
   "metadata": {},
   "source": [
    "Check that the digits for the nth number are 'kind of' symmetric (within one digit). i.e. that if you step in from the left and right, each digit is within 1 value of its palindromic counterpart. This means a 4 is counterparted with a 3 or 5, and a 9 is counterparted with an 8 or a 0."
   ]
  },
  {
   "cell_type": "code",
   "execution_count": 107,
   "metadata": {},
   "outputs": [
    {
     "name": "stdout",
     "output_type": "stream",
     "text": [
      "44757771534490515617290699271561508443627774644\n",
      "True\n"
     ]
    }
   ],
   "source": [
    "string = list(str(pal))\n",
    "lower = 0\n",
    "upper = len(string)-1\n",
    "print(pal)\n",
    "#print(len(string))\n",
    "valid = True\n",
    "\n",
    "\n",
    "while upper >= lower:\n",
    "    #print(string[upper], string[lower])\n",
    "    diff = abs(int(string[upper]) - int(string[lower]))\n",
    "    if (diff > 1 and diff != 9):\n",
    "        valid = False\n",
    "    upper -= 1\n",
    "    lower += 1\n",
    "    #print(valid)\n",
    "print(valid)\n"
   ]
  },
  {
   "cell_type": "markdown",
   "metadata": {},
   "source": [
    "We now check for a large amount of numbers. "
   ]
  },
  {
   "cell_type": "code",
   "execution_count": 119,
   "metadata": {},
   "outputs": [],
   "source": [
    "end = len(pal_array)\n",
    "i = 0\n",
    "\n",
    "not_symmetric = []\n",
    "symmetric_list = []\n",
    "\n",
    "\n",
    "valid = True\n",
    "while i < end:\n",
    "    string = list(str(pal_array[i]))\n",
    "    lower = 0\n",
    "    upper = len(string)-1\n",
    "    valid = True\n",
    "    while upper >= lower:\n",
    "        #print(string[upper], string[lower])\n",
    "        diff = abs(int(string[upper]) - int(string[lower]))\n",
    "        if (diff > 1 and diff != 9):\n",
    "            valid = False     \n",
    "        upper -= 1\n",
    "        lower += 1\n",
    "    if valid:\n",
    "        symmetric_list.append(pal_array[i])\n",
    "    else:\n",
    "        not_symmetric.append(pal_array[i])\n",
    "        \n",
    "    #print(pal_array[i], valid)\n",
    "    i += 1\n",
    "#print(valid)"
   ]
  },
  {
   "cell_type": "code",
   "execution_count": 117,
   "metadata": {},
   "outputs": [
    {
     "name": "stdout",
     "output_type": "stream",
     "text": [
      "The following lychrel numbers are not symmetric: [196, 1675, 13783, 187088, 1067869, 10755470, 111589511, 1794102596, 16403234045, 130992928913, 1800098901007, 17602285712176, 159547977975595, 1400255515443103, 17653692772973576, 159482241005228405, 1317620482294916822, 13305261530450734933, 177104867844767940077, 1795298270686072793597, 18408442064004592449047, 175095833209091234750057, 1751196640799987135692157, 17537224026299926194218357, 175837936477498486373973857, 1758434620324786522027424867, 17786453745152322604573635887, 182280281681549295517528109327, 1712373124704184482497411473217, 17671139534403958504034349321776, 159876958854887988978955775977805, 1326313072829535757534829271313622, 13258878097456662332665448018788423, 171869639709643252636224690693706727, 1797953072701241777777132207161449896, 16474800379447118011108106559729985745, 131467596250025596244378551114170566423, 1713431572655604770948087405557266223327, 17893315300422394267788614031240046132996, 164643958609270772803130816807280794934745, 1314265912473067781768877187859384208661423, 17123625957151502418030218042061517695252227, 178697760268335052998466598925153376306768796, 1643130837774473154788262996461373387738131345, 13158897331226320592562872742059146230247889513]\n",
      "\n",
      "\n",
      "The following lychrel numbers are semi-symmetric: [887, 7436, 52514, 94039, 18211171, 35322452, 60744805, 227574622, 454050344, 897100798, 8746117567, 70446464506, 450822227944, 900544455998, 8801197801088, 84724043932847, 755127757721546, 4413700670963144, 8827391431036288, 85191620502609247, 664304741147513356, 3603815405135183953, 7197630720180367016, 47248966933966985264, 93507933867933969538, 947154635293536341848, 9749270977546801719568, 92502871604050616929528, 925153265399993573340628, 9264161958699957602603728, 92918473189299188236491928, 934217310162393261013712428, 9442681822581660752291773438, 96640091285774647759309104658, 906182107397142240703710191608, 8836114272647029296571625205388, 85383533877444544434477942439447, 668656536414767878767414635656756, 3589444802113893332894111974449853, 7178889593228875666877224058899706, 45747659181913285659330927106673654, 91385319354816681317562845302348408, 899477035806065888888571598630674898, 8787394689723559555548553279865047867, 71233793175007298122189281057030833206, 456132667661181469687074071166866330554, 911166336322351940474038252333632562208, 8946658200210652579438861471120017566498, 87816479304635435956564863353640397472867, 712083455691979390834439093880187654281206, 4555933937312655599557549065463126404285554, 9111757983526301209015109021025263797681108, 89348885628667526499233299462576693647884398, 876565363941686582894131498175687238374565667, 7074449215608204801780891870975118165118444806]\n"
     ]
    }
   ],
   "source": [
    "print(\"The following lychrel numbers are not symmetric:\", not_symmetric)\n",
    "print(\"\\n\\nThe following lychrel numbers are semi-symmetric:\", symmetric_list)"
   ]
  },
  {
   "cell_type": "markdown",
   "metadata": {},
   "source": [
    "As we can see, a large portion of the numbers generate by applying the lychrel process to 196 are what I've defined above to be 'semi-symmetric'. That is it seems to be about half of them, the other half are not symmetric at all. Interestingly all these non semi-symmetric numbers have at least 1 leading 1. \n",
    "\n",
    "Even more interesting is that it appears that upon removing the leading 1, all of these values appear to become semi-symmetric again."
   ]
  },
  {
   "cell_type": "code",
   "execution_count": 136,
   "metadata": {},
   "outputs": [
    {
     "name": "stdout",
     "output_type": "stream",
     "text": [
      "1675 True\n",
      "13783 True\n",
      "187088 True\n",
      "1067869 True\n",
      "10755470 True\n",
      "111589511 True\n",
      "1794102596 True\n",
      "16403234045 True\n",
      "130992928913 True\n",
      "1800098901007 True\n",
      "17602285712176 True\n",
      "159547977975595 True\n",
      "1400255515443103 True\n",
      "17653692772973576 True\n",
      "159482241005228405 True\n",
      "1317620482294916822 True\n",
      "13305261530450734933 True\n",
      "177104867844767940077 True\n",
      "1795298270686072793597 True\n",
      "18408442064004592449047 True\n",
      "175095833209091234750057 True\n",
      "1751196640799987135692157 True\n",
      "17537224026299926194218357 True\n",
      "175837936477498486373973857 True\n",
      "1758434620324786522027424867 True\n",
      "17786453745152322604573635887 True\n",
      "182280281681549295517528109327 True\n",
      "1712373124704184482497411473217 True\n",
      "17671139534403958504034349321776 True\n",
      "159876958854887988978955775977805 True\n",
      "1326313072829535757534829271313622 True\n",
      "13258878097456662332665448018788423 True\n",
      "171869639709643252636224690693706727 True\n",
      "1797953072701241777777132207161449896 True\n",
      "16474800379447118011108106559729985745 True\n",
      "131467596250025596244378551114170566423 True\n",
      "1713431572655604770948087405557266223327 True\n",
      "17893315300422394267788614031240046132996 True\n",
      "164643958609270772803130816807280794934745 True\n",
      "1314265912473067781768877187859384208661423 True\n",
      "17123625957151502418030218042061517695252227 True\n",
      "178697760268335052998466598925153376306768796 True\n",
      "1643130837774473154788262996461373387738131345 True\n",
      "13158897331226320592562872742059146230247889513 True\n"
     ]
    }
   ],
   "source": [
    "end = len(not_symmetric)\n",
    "i = 1\n",
    "\n",
    "\n",
    "\n",
    "valid = True\n",
    "while i < end:\n",
    "    string = list(str(not_symmetric[i]))[1:]\n",
    "    lower = 0\n",
    "    upper = len(string)-1\n",
    "    while upper >= lower:\n",
    "        #print(string[upper], string[lower])\n",
    "        diff = abs(int(string[upper]) - int(string[lower]))\n",
    "        if (diff > 1 and diff != 9):\n",
    "            valid = False     \n",
    "        upper -= 1\n",
    "        lower += 1\n",
    "    print(not_symmetric[i], valid)\n",
    "    i += 1\n",
    "\n",
    "    \n",
    "#print(\"Therefore the condition that all of these are second order semi-symmetric is:\", valid)"
   ]
  },
  {
   "cell_type": "markdown",
   "metadata": {},
   "source": [
    "Thus we can see that by removing the leading 1 for all partial sums with a leading 1, we can create more semi-symmetrical numbers. It would still seem however that none of these are truly palindromic."
   ]
  },
  {
   "cell_type": "code",
   "execution_count": null,
   "metadata": {},
   "outputs": [],
   "source": []
  }
 ],
 "metadata": {
  "kernelspec": {
   "display_name": "Python 3",
   "language": "python",
   "name": "python3"
  },
  "language_info": {
   "codemirror_mode": {
    "name": "ipython",
    "version": 3
   },
   "file_extension": ".py",
   "mimetype": "text/x-python",
   "name": "python",
   "nbconvert_exporter": "python",
   "pygments_lexer": "ipython3",
   "version": "3.7.3"
  }
 },
 "nbformat": 4,
 "nbformat_minor": 2
}
