{
 "cells": [
  {
   "cell_type": "code",
   "execution_count": 3,
   "metadata": {},
   "outputs": [],
   "source": [
    "import matplotlib.pyplot as plt\n",
    "import math\n",
    "import pandas\n",
    "import numpy as np\n",
    "import plotly.express as px \n",
    "import plotly.graph_objects as go\n",
    "import plotly\n",
    "from decimal import * #gives us perfect precision decimal points"
   ]
  },
  {
   "cell_type": "markdown",
   "metadata": {},
   "source": [
    "# Palindrome Generation From Decimal\n",
    "The purpose of this notebook is to demonstrate that the lychrel process continues to be valid for many decimal point numbers."
   ]
  },
  {
   "cell_type": "code",
   "execution_count": 8,
   "metadata": {
    "scrolled": true
   },
   "outputs": [],
   "source": [
    "pal = '3.254'\n",
    "n = 0\n",
    "n_final = 1000\n",
    "\n",
    "# generator, break condition removed as we can save computation time\n",
    "def lychrel_generator(start) :\n",
    "    a = start\n",
    "    b = Decimal(a) + Decimal(str(a)[::-1])\n",
    "    while True :\n",
    "        yield a\n",
    "        a , b = str(b) , b + Decimal(str(b)[::-1])\n",
    "\n",
    "lychrel_gen = lychrel_generator(pal)\n",
    "\n",
    "\n",
    "title_text = \"Frequency Of Digits for \" + str(n_final) + \" Steps of the Lychrel Process on 196\" \n",
    "image_title = \"images/196DigitDistributionForN\" + str(n_final)"
   ]
  },
  {
   "cell_type": "code",
   "execution_count": 9,
   "metadata": {
    "scrolled": true
   },
   "outputs": [
    {
     "name": "stdout",
     "output_type": "stream",
     "text": [
      "3.254\n",
      "455.55\n",
      "511.104\n",
      "Palindrome found at 912.219 after 3 steps.\n"
     ]
    }
   ],
   "source": [
    "\n",
    "\n",
    "lychrel_char_gen = lychrel_generator(pal)\n",
    "\n",
    "getcontext().prec = len(pal)\n",
    "\n",
    "i=0\n",
    "for num in lychrel_char_gen:\n",
    "    if (i > n_final or num == num[::-1]):\n",
    "        found_text = \"Palindrome found at \" + num + \" after \" + str(i) + \" steps.\"\n",
    "        print(found_text if num == num[::-1] else \"limit exceeded\")\n",
    "        break\n",
    "    else:\n",
    "        print(num)\n",
    "        getcontext().prec += 1\n",
    "        i+=1\n"
   ]
  },
  {
   "cell_type": "code",
   "execution_count": null,
   "metadata": {},
   "outputs": [],
   "source": []
  }
 ],
 "metadata": {
  "kernelspec": {
   "display_name": "Python 3",
   "language": "python",
   "name": "python3"
  },
  "language_info": {
   "codemirror_mode": {
    "name": "ipython",
    "version": 3
   },
   "file_extension": ".py",
   "mimetype": "text/x-python",
   "name": "python",
   "nbconvert_exporter": "python",
   "pygments_lexer": "ipython3",
   "version": "3.7.3"
  }
 },
 "nbformat": 4,
 "nbformat_minor": 2
}
