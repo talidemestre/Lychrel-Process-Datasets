{
 "cells": [
  {
   "cell_type": "code",
   "execution_count": 1,
   "metadata": {},
   "outputs": [],
   "source": [
    "import matplotlib.pyplot as plt\n",
    "import math\n",
    "import pandas\n",
    "import numpy as np"
   ]
  },
  {
   "cell_type": "markdown",
   "metadata": {},
   "source": [
    "# Palindrome Generation\n",
    "We start by generating a list of the first n iterations of the lychrel process on 196."
   ]
  },
  {
   "cell_type": "code",
   "execution_count": 2,
   "metadata": {},
   "outputs": [],
   "source": [
    "pal = 196\n",
    "n = 0\n",
    "n_final = 10000\n",
    "\n",
    "title_text = \"Frequency Of Digits in the First \" + str(n_final) + \" Steps of the Lychrel Process\" \n",
    "\n",
    "\n",
    "pal_array = []\n",
    "\n",
    "# steps through partial lychrel process\n",
    "while n < n_final:\n",
    "    #print(n)\n",
    "    pal_array.append(pal)\n",
    "    pal = pal + int(str(pal)[::-1])\n",
    "    n+=1\n",
    "    \n",
    "with open(\"196steps.csv\", \"w\") as output:\n",
    "    output.write(str(pal_array))"
   ]
  },
  {
   "cell_type": "markdown",
   "metadata": {},
   "source": [
    "Then we want to analyse the distribution of integers above some arbitrary cut off point."
   ]
  },
  {
   "cell_type": "code",
   "execution_count": 3,
   "metadata": {},
   "outputs": [],
   "source": [
    "char_array = []\n",
    "\n",
    "for num in pal_array:\n",
    "    char_array.extend(map(int, list(str(num))))\n",
    "\n",
    "np.savetxt(\"196digits.csv\", char_array)"
   ]
  },
  {
   "cell_type": "code",
   "execution_count": 22,
   "metadata": {},
   "outputs": [
    {
     "name": "stdout",
     "output_type": "stream",
     "text": [
      "[2168132, 2052501, 2075106, 2039654, 2087835, 2089803, 2040013, 2078404, 2050225, 2166352]\n",
      "['0', '1', '2', '3', '4', '5', '6', '7', '8', '9']\n"
     ]
    }
   ],
   "source": [
    "digits = list( map( str, list(range(0,10))))\n",
    "distr_list = [0, 0, 0, 0, 0, 0, 0, 0 ,0 ,0]\n",
    "\n",
    "for digit in char_array:\n",
    "    distr_list[digit] += 1\n",
    "\n",
    "print(distr_list)\n",
    "print(digits)"
   ]
  },
  {
   "cell_type": "code",
   "execution_count": 29,
   "metadata": {},
   "outputs": [
    {
     "data": {
      "image/png": "[encoded data removed]",
      "text/plain": [
       "<Figure size 432x288 with 1 Axes>"
      ]
     },
     "metadata": {
      "needs_background": "light"
     },
     "output_type": "display_data"
    }
   ],
   "source": [
    "plt.bar(digits, distr_list)\n",
    "plt.title(title_text)\n",
    "plt.xlabel(\"Digits\")\n",
    "plt.ylabel(\"Occurence\")\n",
    "plt.savefig(\"196 Digit Distribution\", dpi = 400)\n",
    "plt.show()"
   ]
  },
  {
   "cell_type": "markdown",
   "metadata": {},
   "source": [
    "From this distribution of the first 100000 iterations of the n-step palindrome process, it seems unlikely that a higher prevalence of any given number is responsible of 196's stubborness to converge on a palindrome.\n",
    "\n",
    "It would appear that 0 or 9 is slightly more common in this sequence. This does make some sense as it makes sense that final 9's would cause carrying to occus which could disrupt the process, but again I am unsure if this is of significance.\n",
    "\n",
    "A more rigorous investigation will to be investigate the patterns of more seed Lychrel numbers and non-seed numbers."
   ]
  },
  {
   "cell_type": "code",
   "execution_count": null,
   "metadata": {},
   "outputs": [],
   "source": []
  }
 ],
 "metadata": {
  "kernelspec": {
   "display_name": "Python 3",
   "language": "python",
   "name": "python3"
  },
  "language_info": {
   "codemirror_mode": {
    "name": "ipython",
    "version": 3
   },
   "file_extension": ".py",
   "mimetype": "text/x-python",
   "name": "python",
   "nbconvert_exporter": "python",
   "pygments_lexer": "ipython3",
   "version": "3.7.3"
  }
 },
 "nbformat": 4,
 "nbformat_minor": 2
}
